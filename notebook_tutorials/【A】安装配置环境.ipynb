{
 "cells": [
  {
   "cell_type": "markdown",
   "metadata": {},
   "source": [
    "# 安装配置环境\n",
    "\n",
    "[同济子豪兄](https://space.bilibili.com/1900783) 2022-6-25"
   ]
  },
  {
   "cell_type": "markdown",
   "metadata": {},
   "source": [
    "## 1.安装Neo4j"
   ]
  },
  {
   "cell_type": "markdown",
   "metadata": {},
   "source": [
    "### 安装Neo4j Desktop"
   ]
  },
  {
   "cell_type": "markdown",
   "metadata": {},
   "source": [
    "https://neo4j.com/download/"
   ]
  },
  {
   "cell_type": "markdown",
   "metadata": {},
   "source": [
    "### 创建新Project：Medical_QA"
   ]
  },
  {
   "cell_type": "markdown",
   "metadata": {},
   "source": [
    "### 创建新DBMS：medical_neo4j"
   ]
  },
  {
   "cell_type": "markdown",
   "metadata": {},
   "source": [
    "### 启动DBMS，在浏览器中访问`localhost:7474`"
   ]
  },
  {
   "cell_type": "markdown",
   "metadata": {},
   "source": [
    "## 2.安装配置Python\n",
    "\n",
    "### 安装基础环境\n",
    "\n",
    "视频：【Windows安装配置Python】https://www.bilibili.com/video/BV1P5411W7g5?p=2\n",
    "\n",
    "视频：【MacOS安装配置Python】https://www.bilibili.com/video/BV1P5411W7g5?p=3\n",
    "\n",
    "视频：【python数据分析神器Jupyter notebook快速入门】https://www.bilibili.com/video/BV1Q4411H7fJ"
   ]
  },
  {
   "cell_type": "markdown",
   "metadata": {},
   "source": [
    "### 安装第三方库"
   ]
  },
  {
   "cell_type": "code",
   "execution_count": 10,
   "metadata": {},
   "outputs": [
    {
     "name": "stdout",
     "output_type": "stream",
     "text": [
      "Looking in indexes: https://pypi.tuna.tsinghua.edu.cn/simple/\n",
      "Requirement already satisfied: py2neo in c:\\programdata\\miniconda3\\envs\\myenv\\lib\\site-packages (2021.2.4)\n",
      "Requirement already satisfied: pyahocorasick in c:\\programdata\\miniconda3\\envs\\myenv\\lib\\site-packages (2.1.0)\n",
      "Requirement already satisfied: numpy in c:\\programdata\\miniconda3\\envs\\myenv\\lib\\site-packages (1.26.4)\n",
      "Requirement already satisfied: pandas in c:\\programdata\\miniconda3\\envs\\myenv\\lib\\site-packages (2.2.2)\n",
      "Requirement already satisfied: certifi in c:\\programdata\\miniconda3\\envs\\myenv\\lib\\site-packages (from py2neo) (2024.6.2)\n",
      "Requirement already satisfied: interchange~=2021.0.4 in c:\\programdata\\miniconda3\\envs\\myenv\\lib\\site-packages (from py2neo) (2021.0.4)\n",
      "Requirement already satisfied: monotonic in c:\\programdata\\miniconda3\\envs\\myenv\\lib\\site-packages (from py2neo) (1.6)\n",
      "Requirement already satisfied: packaging in c:\\programdata\\miniconda3\\envs\\myenv\\lib\\site-packages (from py2neo) (24.1)\n",
      "Requirement already satisfied: pansi>=2020.7.3 in c:\\programdata\\miniconda3\\envs\\myenv\\lib\\site-packages (from py2neo) (2020.7.3)\n",
      "Requirement already satisfied: pygments>=2.0.0 in c:\\programdata\\miniconda3\\envs\\myenv\\lib\\site-packages (from py2neo) (2.18.0)\n",
      "Requirement already satisfied: six>=1.15.0 in c:\\programdata\\miniconda3\\envs\\myenv\\lib\\site-packages (from py2neo) (1.16.0)\n",
      "Requirement already satisfied: urllib3 in c:\\programdata\\miniconda3\\envs\\myenv\\lib\\site-packages (from py2neo) (2.2.2)\n",
      "Requirement already satisfied: python-dateutil>=2.8.2 in c:\\programdata\\miniconda3\\envs\\myenv\\lib\\site-packages (from pandas) (2.9.0.post0)\n",
      "Requirement already satisfied: pytz>=2020.1 in c:\\programdata\\miniconda3\\envs\\myenv\\lib\\site-packages (from pandas) (2024.1)\n",
      "Requirement already satisfied: tzdata>=2022.7 in c:\\programdata\\miniconda3\\envs\\myenv\\lib\\site-packages (from pandas) (2024.1)\n"
     ]
    }
   ],
   "source": [
    "!pip install py2neo pyahocorasick numpy pandas -i https://pypi.tuna.tsinghua.edu.cn/simple/"
   ]
  },
  {
   "cell_type": "markdown",
   "metadata": {},
   "source": [
    "### 验证安装成功"
   ]
  },
  {
   "cell_type": "code",
   "execution_count": 27,
   "metadata": {},
   "outputs": [],
   "source": [
    "# 验证安装成功\n",
    "import py2neo\n",
    "\n",
    "#密码用自己的\n",
    "# 注意，这里的用户名为neo4j全局用户名，而非DBMS或者database的名称\n",
    "g = Graph('bolt://192.168.124.22:7688', auth=('neo4j', 'Zkdn@123456'),name=\"neo4j\")"
   ]
  },
  {
   "cell_type": "code",
   "execution_count": 20,
   "metadata": {},
   "outputs": [
    {
     "name": "stdout",
     "output_type": "stream",
     "text": [
      "Looking in indexes: https://pypi.tuna.tsinghua.edu.cn/simple\n",
      "Collecting neo4j\n",
      "  Downloading https://pypi.tuna.tsinghua.edu.cn/packages/2a/c6/14fc4682aa2c3070638af51abfe86cf38fbcb9270fba9330f4edd3ada2ee/neo4j-5.21.0-py3-none-any.whl (286 kB)\n",
      "     ---------------------------------------- 0.0/286.8 kB ? eta -:--:--\n",
      "     -------- ------------------------------ 61.4/286.8 kB 1.7 MB/s eta 0:00:01\n",
      "     -------- ------------------------------ 61.4/286.8 kB 1.7 MB/s eta 0:00:01\n",
      "     -------- ------------------------------ 61.4/286.8 kB 1.7 MB/s eta 0:00:01\n",
      "     -------- ------------------------------ 61.4/286.8 kB 1.7 MB/s eta 0:00:01\n",
      "     ------------------------ ----------- 194.6/286.8 kB 985.7 kB/s eta 0:00:01\n",
      "     ------------------------- ---------- 204.8/286.8 kB 778.2 kB/s eta 0:00:01\n",
      "     ----------------------------- ------ 235.5/286.8 kB 722.1 kB/s eta 0:00:01\n",
      "     ----------------------------- ------ 235.5/286.8 kB 722.1 kB/s eta 0:00:01\n",
      "     ----------------------------- ------ 235.5/286.8 kB 722.1 kB/s eta 0:00:01\n",
      "     ----------------------------- ------ 235.5/286.8 kB 722.1 kB/s eta 0:00:01\n",
      "     ----------------------------- ------ 235.5/286.8 kB 722.1 kB/s eta 0:00:01\n",
      "     ----------------------------- ------ 235.5/286.8 kB 722.1 kB/s eta 0:00:01\n",
      "     ----------------------------- ------ 235.5/286.8 kB 722.1 kB/s eta 0:00:01\n",
      "     ------------------------------------ 286.8/286.8 kB 421.6 kB/s eta 0:00:00\n",
      "Requirement already satisfied: pytz in c:\\programdata\\miniconda3\\envs\\myenv\\lib\\site-packages (from neo4j) (2024.1)\n",
      "Installing collected packages: neo4j\n",
      "Successfully installed neo4j-5.21.0\n"
     ]
    }
   ],
   "source": [
    "!pip install neo4j"
   ]
  },
  {
   "cell_type": "code",
   "execution_count": 21,
   "metadata": {},
   "outputs": [],
   "source": [
    "from neo4j import GraphDatabase\n",
    "\n",
    "uri = \"bolt://192.168.124.22:7688\"  # 默认URI，根据你的Neo4j实例进行修改\n",
    "username = \"neo4j\"             # 默认用户名\n",
    "password = \"Zkdn@123456\"     # 你的Neo4j密码\n",
    "\n",
    "driver = GraphDatabase.driver(uri, auth=(username, password))"
   ]
  },
  {
   "cell_type": "code",
   "execution_count": 23,
   "metadata": {},
   "outputs": [
    {
     "name": "stdout",
     "output_type": "stream",
     "text": [
      "{'n': {'tagline': 'Welcome to the Real World', 'title': 'The Matrix', 'released': 1999}}\n",
      "{'n': {'born': 1964, 'name': 'Keanu Reeves'}}\n",
      "{'n': {'born': 1967, 'name': 'Carrie-Anne Moss'}}\n",
      "{'n': {'born': 1961, 'name': 'Laurence Fishburne'}}\n",
      "{'n': {'born': 1960, 'name': 'Hugo Weaving'}}\n",
      "{'n': {'born': 1967, 'name': 'Lilly Wachowski'}}\n",
      "{'n': {'born': 1965, 'name': 'Lana Wachowski'}}\n",
      "{'n': {'born': 1952, 'name': 'Joel Silver'}}\n",
      "{'n': {'born': 1978, 'name': 'Emil Eifrem'}}\n",
      "{'n': {'tagline': 'Free your mind', 'title': 'The Matrix Reloaded', 'released': 2003}}\n"
     ]
    }
   ],
   "source": [
    "def run_query(tx, query):\n",
    "    result = tx.run(query)\n",
    "    return result.data()\n",
    "\n",
    "with driver.session() as session:\n",
    "    result = session.execute_read(run_query, \"MATCH (n) RETURN n LIMIT 10\")\n",
    "    for record in result:\n",
    "        print(record)"
   ]
  },
  {
   "cell_type": "code",
   "execution_count": 24,
   "metadata": {},
   "outputs": [],
   "source": [
    "driver.close()"
   ]
  },
  {
   "cell_type": "code",
   "execution_count": null,
   "metadata": {},
   "outputs": [],
   "source": []
  }
 ],
 "metadata": {
  "kernelspec": {
   "display_name": "Python 3 (ipykernel)",
   "language": "python",
   "name": "python3"
  },
  "language_info": {
   "codemirror_mode": {
    "name": "ipython",
    "version": 3
   },
   "file_extension": ".py",
   "mimetype": "text/x-python",
   "name": "python",
   "nbconvert_exporter": "python",
   "pygments_lexer": "ipython3",
   "version": "3.12.4"
  }
 },
 "nbformat": 4,
 "nbformat_minor": 4
}
